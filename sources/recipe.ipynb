{
 "cells": [
  {
   "cell_type": "code",
   "execution_count": 2,
   "id": "ffdc2de0",
   "metadata": {},
   "outputs": [],
   "source": [
    "# 레시피 데이터를 읽어오는 함수\n",
    "\n",
    "\n",
    "# 사용자 입력을 받아 재료 리스트로 변환\n",
    "\n",
    "\n",
    "# 레시피 데이터 파일명\n",
    "recipe_file = \"recipe.txt\"\n",
    "\n",
    "# 레시피 데이터를 불러옴\n",
    "\n",
    "\n",
    "# 사용자 입력과 일치하는 레시피를 찾아서 출력\n"
   ]
  }
 ],
 "metadata": {
  "kernelspec": {
   "display_name": "Python 3 (ipykernel)",
   "language": "python",
   "name": "python3"
  },
  "language_info": {
   "codemirror_mode": {
    "name": "ipython",
    "version": 3
   },
   "file_extension": ".py",
   "mimetype": "text/x-python",
   "name": "python",
   "nbconvert_exporter": "python",
   "pygments_lexer": "ipython3",
   "version": "3.11.4"
  }
 },
 "nbformat": 4,
 "nbformat_minor": 5
}
